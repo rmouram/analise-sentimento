{
 "cells": [
  {
   "cell_type": "code",
   "execution_count": 2,
   "source": [
    "from argparse import Namespace\n",
    "from numpy.core.arrayprint import _leading_trailing\n",
    "from numpy.core.fromnumeric import shape\n",
    "\n",
    "import tensorflow as tf\n",
    "from tensorflow.keras.preprocessing.text import Tokenizer\n",
    "from tensorflow.keras.preprocessing.sequence import pad_sequences\n",
    "\n",
    "from sklearn.metrics import accuracy_score\n",
    "from sklearn.metrics import precision_score\n",
    "from sklearn.metrics import recall_score\n",
    "from sklearn.metrics import f1_score\n",
    "from sklearn.metrics import cohen_kappa_score\n",
    "from sklearn.metrics import roc_auc_score\n",
    "from sklearn.metrics import confusion_matrix\n",
    "\n",
    "import pandas as pd\n",
    "import numpy as np\n",
    "\n",
    "import seaborn as sns\n",
    "import matplotlib.pyplot as plt\n"
   ],
   "outputs": [
    {
     "output_type": "stream",
     "name": "stderr",
     "text": [
      "2021-09-24 15:20:35.153231: W tensorflow/stream_executor/platform/default/dso_loader.cc:64] Could not load dynamic library 'libcudart.so.11.0'; dlerror: libcudart.so.11.0: cannot open shared object file: No such file or directory\n",
      "2021-09-24 15:20:35.153277: I tensorflow/stream_executor/cuda/cudart_stub.cc:29] Ignore above cudart dlerror if you do not have a GPU set up on your machine.\n"
     ]
    }
   ],
   "metadata": {}
  },
  {
   "cell_type": "code",
   "execution_count": 37,
   "source": [
    "args = Namespace(\n",
    "    dataset_csv = 'data/olist_order_reviews_dataset.csv',\n",
    "    train_split = 0.8,\n",
    "    random_state = 42,\n",
    "    vocab_size = 10000,\n",
    "    embedding_dim = 16,\n",
    "    max_length = 120,\n",
    "    batch_size=128,\n",
    "    num_epochs=5,\n",
    "    early_stopping_criteria=2,\n",
    "    dropout_p=0.3,\n",
    "    model_storage=\"model_storage/lstm\",)"
   ],
   "outputs": [],
   "metadata": {}
  },
  {
   "cell_type": "code",
   "execution_count": 38,
   "source": [
    "def load_data(path, column_text='review_comment_message', column_score='review_score', points_cut = [0,2,5], classes = [0, 1]):\n",
    "    df = pd.read_csv(path)\n",
    "\n",
    "    df = df.dropna(subset=[column_text])\n",
    "\n",
    "    df['label'] = pd.cut(df[column_score], bins=points_cut, labels=classes)\n",
    "\n",
    "    df = df.rename(columns={column_text: 'text'})\n",
    "    df = df[['text', 'label']]\n",
    "\n",
    "    return df"
   ],
   "outputs": [],
   "metadata": {}
  },
  {
   "cell_type": "code",
   "execution_count": 39,
   "source": [
    "df = load_data(args.dataset_csv)"
   ],
   "outputs": [],
   "metadata": {}
  },
  {
   "cell_type": "code",
   "execution_count": 6,
   "source": [
    "def split_train_test(data, split_train=0.8, random_state=200):\n",
    "    \"\"\"\n",
    "    Args\n",
    "        df - Dataframe \n",
    "        split_train - Percent of subset train \n",
    "        random_state - Random State \n",
    "    Return\n",
    "        training_sentence - training subset with text\n",
    "        training_label - training subset with label\n",
    "        test_sentence - test subset with text\n",
    "        test_label - test subset with label\n",
    "    \"\"\"\n",
    "\n",
    "    df_train  = data.sample(frac = split_train, random_state=random_state)\n",
    "    df_test = data.drop(df_train.index)\n",
    "\n",
    "    training_sentences = []\n",
    "    training_labels = []\n",
    "    testing_sentences = []\n",
    "    testing_labels = []\n",
    "\n",
    "    for index, train in df_train.iterrows():\n",
    "        training_sentences.append(str(train['text']))\n",
    "        training_labels.append(train['label'])\n",
    "    \n",
    "    for index, test in df_test.iterrows():\n",
    "        testing_sentences.append(str(test['text']))\n",
    "        testing_labels.append(test['label'])\n",
    "    \n",
    "    training_labels_final = np.array(training_labels)\n",
    "    testing_labels_final = np.array(testing_labels)\n",
    "\n",
    "    return training_sentences, training_labels, testing_sentences, testing_labels\n"
   ],
   "outputs": [],
   "metadata": {}
  },
  {
   "cell_type": "code",
   "execution_count": 7,
   "source": [
    "training_sentences, training_labels, testing_sentences, testing_labels = split_train_test(df, split_train=args.train_split, random_state=args.random_state)"
   ],
   "outputs": [],
   "metadata": {}
  },
  {
   "cell_type": "markdown",
   "source": [
    "\n",
    "No código abaixo utilizaremos a classe Tokenizer para criar um vocabulário interno \n",
    "e depois chamaremos o método texts_to_sequencestransformar as sentenças em sequências. \n",
    "Logo em seguida, fixaremos o tamanho das sequências preenchendo com zero, utilizando \n",
    "o método pad_sequences.\n"
   ],
   "metadata": {}
  },
  {
   "cell_type": "code",
   "execution_count": 8,
   "source": [
    "oov_tok = \"<OOV>\"\n",
    "\n",
    "tokenizer = Tokenizer(num_words=args.vocab_size, oov_token=oov_tok)\n",
    "tokenizer.fit_on_texts(training_sentences)"
   ],
   "outputs": [],
   "metadata": {}
  },
  {
   "cell_type": "code",
   "execution_count": 9,
   "source": [
    "def preprocess(training_sentences, testing_sentences, max_length, vocab_size, trunc_type='post', oov_tok='<OOV>'):\n",
    "    \"\"\"\n",
    "    Args\n",
    "        training_sentences\n",
    "        training_labels\n",
    "        testing_sentences\n",
    "        testing_labels\n",
    "    Return\n",
    "        training_sentences\n",
    "        training_labels\n",
    "        testing_sentences\n",
    "        testing_labels \n",
    "    \"\"\"\n",
    "\n",
    "    training_sentences = tokenizer.texts_to_sequences(training_sentences)\n",
    "    training_padded = pad_sequences(training_sentences, maxlen=max_length, truncating=trunc_type)\n",
    "\n",
    "    testing_sentences = tokenizer.texts_to_sequences(testing_sentences)\n",
    "    testing_padded = pad_sequences(testing_sentences, maxlen=max_length)\n",
    "\n",
    "    return training_padded, testing_padded"
   ],
   "outputs": [],
   "metadata": {}
  },
  {
   "cell_type": "code",
   "execution_count": 10,
   "source": [
    "training_sentences, testing_sentences = preprocess(training_sentences, testing_sentences, args.max_length, args.vocab_size)"
   ],
   "outputs": [],
   "metadata": {}
  },
  {
   "cell_type": "markdown",
   "source": [
    "Projetaremos nossa rede neural com uma camada de tf.keras.layers.Embedding para que vetorizar \n",
    "as sequências. Seguido de camadas de tf.keras.layers.LSTM. E utilizaremos tf.keras.layers.Dropout \n",
    "para controlar o overfitting da nossa rede.\n"
   ],
   "metadata": {}
  },
  {
   "cell_type": "code",
   "execution_count": 11,
   "source": [
    "def create_model():\n",
    "    input = tf.keras.Input(shape=(args.max_length))\n",
    "    x = tf.keras.layers.Embedding(args.vocab_size, args.embedding_dim, input_length=args.max_length)(input)\n",
    "\n",
    "    x = tf.keras.layers.LSTM(16, return_sequences=True)(x)\n",
    "    x = tf.keras.layers.LSTM(16)(x)\n",
    "\n",
    "    x = tf.keras.layers.Dropout(0.6)(x)\n",
    "\n",
    "    x = tf.keras.layers.Dense(32, activation='relu')(x)\n",
    "\n",
    "    output = tf.keras.layers.Dense(1, activation='sigmoid')(x)\n",
    "    return tf.keras.Model(input, output)"
   ],
   "outputs": [],
   "metadata": {}
  },
  {
   "cell_type": "code",
   "execution_count": 13,
   "source": [
    "earlyStoppingCallback = tf.keras.callbacks.EarlyStopping(monitor='loss', patience=args.early_stopping_criteria)\n",
    "\n",
    "model = create_model()\n",
    "model.compile(\n",
    "  loss = tf.keras.losses.BinaryCrossentropy(),\n",
    "  optimizer= tf.keras.optimizers.Adam(\n",
    "    learning_rate=0.0001),\n",
    "  metrics=['accuracy']\n",
    ")\n",
    "\n",
    "history = model.fit(\n",
    "    x=training_sentences,\n",
    "    y=np.array(training_labels),\n",
    "    validation_data=(testing_sentences, np.array(testing_labels)),\n",
    "    epochs=15,\n",
    "    batch_size=args.batch_size,\n",
    "    callbacks= [earlyStoppingCallback],\n",
    ")\n"
   ],
   "outputs": [
    {
     "output_type": "stream",
     "name": "stdout",
     "text": [
      "Epoch 1/15\n",
      "261/261 [==============================] - 49s 169ms/step - loss: 0.6085 - accuracy: 0.7199 - val_loss: 0.5330 - val_accuracy: 0.7219\n",
      "Epoch 2/15\n",
      "261/261 [==============================] - 32s 121ms/step - loss: 0.5114 - accuracy: 0.7449 - val_loss: 0.4763 - val_accuracy: 0.7795\n",
      "Epoch 3/15\n",
      "261/261 [==============================] - 31s 118ms/step - loss: 0.4536 - accuracy: 0.7969 - val_loss: 0.4088 - val_accuracy: 0.8101\n",
      "Epoch 4/15\n",
      "261/261 [==============================] - 31s 118ms/step - loss: 0.3789 - accuracy: 0.8326 - val_loss: 0.3497 - val_accuracy: 0.8387\n",
      "Epoch 5/15\n",
      "261/261 [==============================] - 31s 117ms/step - loss: 0.3320 - accuracy: 0.8577 - val_loss: 0.3234 - val_accuracy: 0.8591\n",
      "Epoch 6/15\n",
      "261/261 [==============================] - 32s 123ms/step - loss: 0.3072 - accuracy: 0.8721 - val_loss: 0.3107 - val_accuracy: 0.8656\n",
      "Epoch 7/15\n",
      "261/261 [==============================] - 31s 117ms/step - loss: 0.2913 - accuracy: 0.8808 - val_loss: 0.3017 - val_accuracy: 0.8706\n",
      "Epoch 8/15\n",
      "261/261 [==============================] - 31s 117ms/step - loss: 0.2789 - accuracy: 0.8880 - val_loss: 0.2953 - val_accuracy: 0.8732\n",
      "Epoch 9/15\n",
      "261/261 [==============================] - 29s 113ms/step - loss: 0.2679 - accuracy: 0.8928 - val_loss: 0.2904 - val_accuracy: 0.8761\n",
      "Epoch 10/15\n",
      "261/261 [==============================] - 29s 113ms/step - loss: 0.2579 - accuracy: 0.8982 - val_loss: 0.2870 - val_accuracy: 0.8794\n",
      "Epoch 11/15\n",
      "261/261 [==============================] - 29s 113ms/step - loss: 0.2491 - accuracy: 0.9042 - val_loss: 0.2862 - val_accuracy: 0.8824\n",
      "Epoch 12/15\n",
      "261/261 [==============================] - 30s 114ms/step - loss: 0.2419 - accuracy: 0.9080 - val_loss: 0.2808 - val_accuracy: 0.8874\n",
      "Epoch 13/15\n",
      "261/261 [==============================] - 29s 113ms/step - loss: 0.2342 - accuracy: 0.9119 - val_loss: 0.2794 - val_accuracy: 0.8894\n",
      "Epoch 14/15\n",
      "261/261 [==============================] - 30s 114ms/step - loss: 0.2262 - accuracy: 0.9153 - val_loss: 0.2801 - val_accuracy: 0.8894\n",
      "Epoch 15/15\n",
      "261/261 [==============================] - 30s 114ms/step - loss: 0.2204 - accuracy: 0.9185 - val_loss: 0.2824 - val_accuracy: 0.8888\n"
     ]
    }
   ],
   "metadata": {}
  },
  {
   "cell_type": "markdown",
   "source": [
    "# Validando modelo"
   ],
   "metadata": {}
  },
  {
   "cell_type": "code",
   "execution_count": 14,
   "source": [
    "model.evaluate(testing_sentences, np.array(testing_labels))"
   ],
   "outputs": [
    {
     "output_type": "stream",
     "name": "stdout",
     "text": [
      "261/261 [==============================] - 6s 22ms/step - loss: 0.2824 - accuracy: 0.8888\n"
     ]
    },
    {
     "output_type": "execute_result",
     "data": {
      "text/plain": [
       "[0.28240686655044556, 0.8887558579444885]"
      ]
     },
     "metadata": {},
     "execution_count": 14
    }
   ],
   "metadata": {}
  },
  {
   "cell_type": "markdown",
   "source": [
    "### Curva de acurácia"
   ],
   "metadata": {}
  },
  {
   "cell_type": "code",
   "execution_count": 15,
   "source": [
    "# Curva de acuracia\n",
    "plt.figure(figsize = (10,7))\n",
    "plt.plot(history.history['accuracy'])\n",
    "plt.plot(history.history['val_accuracy'])\n",
    "plt.title('Curva de Acurácia', fontsize = 16)\n",
    "plt.ylabel('Acurácia')\n",
    "plt.xlabel('Epoca')\n",
    "plt.legend(['treino', 'validação'], loc='upper left')\n",
    "plt.show()"
   ],
   "outputs": [
    {
     "output_type": "display_data",
     "data": {
      "image/png": "[encoded data removed]",
      "text/plain": [
       "<Figure size 720x504 with 1 Axes>"
      ]
     },
     "metadata": {
      "needs_background": "light"
     }
    }
   ],
   "metadata": {}
  },
  {
   "cell_type": "markdown",
   "source": [
    "### Curva de perda"
   ],
   "metadata": {}
  },
  {
   "cell_type": "code",
   "execution_count": 16,
   "source": [
    "# Curva de perda\n",
    "plt.figure(figsize = (10,7))\n",
    "plt.plot(history.history['loss'])\n",
    "plt.plot(history.history['val_loss'])\n",
    "plt.title('Curva de Perda', fontsize = 16)\n",
    "plt.ylabel('perda')\n",
    "plt.xlabel('epoca')\n",
    "plt.legend(['treino', 'validação'], loc='upper right')\n",
    "plt.show()"
   ],
   "outputs": [
    {
     "output_type": "display_data",
     "data": {
      "image/png": "[encoded data removed]",
      "text/plain": [
       "<Figure size 720x504 with 1 Axes>"
      ]
     },
     "metadata": {
      "needs_background": "light"
     }
    }
   ],
   "metadata": {}
  },
  {
   "cell_type": "code",
   "execution_count": 17,
   "source": [
    "y_predicted_prob = model.predict(testing_sentences, verbose=0)\n",
    "y_predicted_classes = np.where(y_predicted_prob > 0.5, 1, 0)\n",
    "\n",
    "y_predicted_prob = y_predicted_prob[:,0]\n",
    "y_predicted_classes = y_predicted_classes[:,0]"
   ],
   "outputs": [],
   "metadata": {}
  },
  {
   "cell_type": "code",
   "execution_count": 18,
   "source": [
    "accuracy = accuracy_score(testing_labels, y_predicted_classes)\n",
    "print('Accuracy: %f' % accuracy)\n",
    "\n",
    "precision = precision_score(testing_labels, y_predicted_classes)\n",
    "print('Precision: %f' % precision)\n",
    "\n",
    "f1 = f1_score(testing_labels, y_predicted_classes)\n",
    "print('F1: %f' % f1)\n",
    "\n",
    "recall = recall_score(testing_labels, y_predicted_classes)\n",
    "print('Recall: %f' % recall)"
   ],
   "outputs": [
    {
     "output_type": "stream",
     "name": "stdout",
     "text": [
      "Accuracy: 0.888756\n",
      "Precision: 0.926993\n",
      "F1: 0.922590\n",
      "Recall: 0.918229\n"
     ]
    }
   ],
   "metadata": {}
  },
  {
   "cell_type": "markdown",
   "source": [
    "### Curva ROC"
   ],
   "metadata": {}
  },
  {
   "cell_type": "code",
   "execution_count": 19,
   "source": [
    "# ROC CURVE\n",
    "from sklearn.metrics import roc_curve\n",
    "\n",
    "fpr, tpr, _ = roc_curve(testing_labels, y_predicted_prob)\n",
    "auc = roc_auc_score(testing_labels, y_predicted_prob)\n",
    "plt.figure(figsize = (10,7))\n",
    "\n",
    "plt.plot(fpr,tpr,label=\"LSTM , auc=\"+str(round(auc,2)))\n",
    "plt.title('Curva ROC - LSTM', fontsize = 16)\n",
    "plt.legend(loc=4)\n",
    "plt.show()"
   ],
   "outputs": [
    {
     "output_type": "display_data",
     "data": {
      "image/png": "[encoded data removed]",
      "text/plain": [
       "<Figure size 720x504 with 1 Axes>"
      ]
     },
     "metadata": {
      "needs_background": "light"
     }
    }
   ],
   "metadata": {}
  },
  {
   "cell_type": "markdown",
   "source": [
    "### Matrix de Confusão"
   ],
   "metadata": {}
  },
  {
   "cell_type": "code",
   "execution_count": 20,
   "source": [
    "#matriz de confusao\n",
    "data = confusion_matrix(testing_labels, y_predicted_classes)\n",
    "df_cm = pd.DataFrame(data, columns=np.unique(y_predicted_classes), index = np.unique(y_predicted_classes))\n",
    "df_cm.index.name = 'Real'\n",
    "df_cm.columns.name = 'Previsto'\n",
    "plt.figure(figsize = (10,7))\n",
    "plt.title('Matrix de Confusão', fontsize = 20)\n",
    "\n",
    "sns.set(font_scale=1.4)\n",
    "ax = sns.heatmap(df_cm, cbar=False, cmap=\"Blues\", annot=True, annot_kws={\"size\": 16}, fmt='g')"
   ],
   "outputs": [
    {
     "output_type": "display_data",
     "data": {
      "image/png": "[encoded data removed]",
      "text/plain": [
       "<Figure size 720x504 with 1 Axes>"
      ]
     },
     "metadata": {
      "needs_background": "light"
     }
    }
   ],
   "metadata": {}
  },
  {
   "cell_type": "markdown",
   "source": [
    "## Testando novas sentenças"
   ],
   "metadata": {}
  },
  {
   "cell_type": "code",
   "execution_count": 33,
   "source": [
    "new_sentences = [\n",
    "    'Execelente produto.',\n",
    "    'Recomendo',\n",
    "    'Não compro nunca mais',\n",
    "    'Veio com defeito',\n",
    "    'demorou 4 dias além do prazo',\n",
    "    'Produto chegou com defeito',\n",
    "    'Muito bom, porém é menor do que as medidas mostradas',\n",
    "    'tamanho veio errado mas a cor é bonita',\n",
    "    'tamanho veio errado'\n",
    "]\n",
    "\n",
    "new_sequences = tokenizer.texts_to_sequences(new_sentences)\n",
    "padded = pad_sequences(new_sequences, maxlen=args.max_length, truncating='post')\n",
    "output = model.predict(padded)\n",
    "output = np.where(output > 0.5, 'positivo', 'negativo')\n",
    "\n",
    "for i in range(0, len(new_sequences)):\n",
    "    print('Review: {0} || Sentiment: {1}'.format(new_sentences[i], output[i]))"
   ],
   "outputs": [
    {
     "output_type": "stream",
     "name": "stdout",
     "text": [
      "Review: Execelente produto. || Sentiment: ['positivo']\n",
      "Review: Recomendo || Sentiment: ['positivo']\n",
      "Review: Não compro nunca mais || Sentiment: ['negativo']\n",
      "Review: Veio com defeito || Sentiment: ['positivo']\n",
      "Review: demorou 4 dias além do prazo || Sentiment: ['negativo']\n",
      "Review: Produto chegou com defeito || Sentiment: ['positivo']\n",
      "Review: Muito bom, porém é menor do que as medidas mostradas || Sentiment: ['positivo']\n",
      "Review: tamanho veio errado mas a cor é bonita || Sentiment: ['positivo']\n",
      "Review: tamanho veio errado || Sentiment: ['positivo']\n"
     ]
    }
   ],
   "metadata": {}
  }
 ],
 "metadata": {
  "interpreter": {
   "hash": "4abcb6c8a452d7e89321988234de2b31a13be50384ff8cd6511edb92cfb03cfa"
  },
  "kernelspec": {
   "name": "python3",
   "display_name": "Python 3.8.8 64-bit ('analise-sentimento': venv)"
  },
  "language_info": {
   "codemirror_mode": {
    "name": "ipython",
    "version": 3
   },
   "file_extension": ".py",
   "mimetype": "text/x-python",
   "name": "python",
   "nbconvert_exporter": "python",
   "pygments_lexer": "ipython3",
   "version": "3.8.8"
  }
 },
 "nbformat": 4,
 "nbformat_minor": 5
}